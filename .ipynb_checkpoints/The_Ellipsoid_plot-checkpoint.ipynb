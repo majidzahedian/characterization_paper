{
 "cells": [
  {
   "cell_type": "code",
   "execution_count": 2,
   "id": "d70df732",
   "metadata": {
    "ExecuteTime": {
     "end_time": "2024-01-31T08:58:33.024397Z",
     "start_time": "2024-01-31T08:58:32.974139Z"
    }
   },
   "outputs": [],
   "source": [
    "from matplotlib import pyplot as plt\n",
    "%matplotlib inline"
   ]
  },
  {
   "cell_type": "code",
   "execution_count": 3,
   "id": "78991680",
   "metadata": {
    "ExecuteTime": {
     "end_time": "2024-01-31T08:59:37.118636Z",
     "start_time": "2024-01-31T08:59:37.110958Z"
    }
   },
   "outputs": [],
   "source": [
    "Azz = [1,2]\n",
    "Azx = [1,1.1]\n",
    "\n",
    "covs = [[0.1,0.1,0.1,0.1],[0.1,0.1,0.1,0.1],[0.1,0.1,0.1,0,1],[0.1,0.1,0.1,0.1]]"
   ]
  },
  {
   "cell_type": "code",
   "execution_count": 36,
   "id": "e5c43172",
   "metadata": {
    "ExecuteTime": {
     "end_time": "2024-01-31T12:42:43.979731Z",
     "start_time": "2024-01-31T12:42:43.671432Z"
    }
   },
   "outputs": [
    {
     "data": {
      "text/plain": [
       "(-1.0, 1.0)"
      ]
     },
     "execution_count": 36,
     "metadata": {},
     "output_type": "execute_result"
    },
    {
     "data": {
      "image/png": "[encoded data removed]",
      "text/plain": [
       "<Figure size 432x288 with 1 Axes>"
      ]
     },
     "metadata": {
      "needs_background": "light"
     },
     "output_type": "display_data"
    }
   ],
   "source": [
    "import numpy as np\n",
    "from matplotlib import pyplot as plt\n",
    "from math import pi, cos, sin\n",
    "\n",
    "u=0.       #x-position of the center\n",
    "v=0.0      #y-position of the center\n",
    "a=2.       #radius on the x-axis\n",
    "b=1.5      #radius on the y-axis\n",
    "t_rot=pi/4 #rotation angle\n",
    "\n",
    "for cova in 0,0.1,0.2:\n",
    "    \n",
    "    b = cova\n",
    "    a = np.sqrt(1**2 + b**2)\n",
    "    \n",
    "    c = np.array([-1,1])*np.sqrt(np.abs(a**2-b**2))\n",
    "    \n",
    "\n",
    "    t = np.linspace(0, 2*pi, 100)\n",
    "    Ell = np.array([a*np.cos(t) , b*np.sin(t)])  \n",
    "         #u,v removed to keep the same center location\n",
    "    R_rot = np.array([[cos(t_rot) , -sin(t_rot)],[sin(t_rot) , cos(t_rot)]])  \n",
    "         #2-D rotation matrix\n",
    "\n",
    "    Ell_rot = np.zeros((2,Ell.shape[1]))\n",
    "    for i in range(Ell.shape[1]):\n",
    "        Ell_rot[:,i] = np.dot(R_rot,Ell[:,i])\n",
    "\n",
    "    # foci positions\n",
    "    # c^2 = a^2 - b^2    \n",
    "    plt.xlabel('Azz')\n",
    "    plt.ylabel('Azx')\n",
    "\n",
    "    plt.plot(c+u, np.array([0,0])+v,'ko')\n",
    "    plt.plot( u+Ell[0,:] , v+Ell[1,:])     #initial ellipse\n",
    "    #plt.plot( u+Ell_rot[0,:] , v+Ell_rot[1,:],'darkorange' )    #rotated ellipse\n",
    "    plt.grid(color='lightgray',linestyle='-.')\n",
    "    #plt.show()\n",
    "    \n",
    "for cova in [0.1]:\n",
    "    \n",
    "    b = cova\n",
    "    a = cova\n",
    "    \n",
    "    \n",
    "    #c = np.array([-1,1])*np.sqrt(np.abs(a**2-b**2))\n",
    "    u = -1\n",
    "    v = 0\n",
    "\n",
    "    t = np.linspace(0, 2*pi, 100)\n",
    "    Ell = np.array([a*np.cos(t) , b*np.sin(t)])  \n",
    "         #u,v removed to keep the same center location\n",
    "    R_rot = np.array([[cos(t_rot) , -sin(t_rot)],[sin(t_rot) , cos(t_rot)]])  \n",
    "         #2-D rotation matrix\n",
    "\n",
    "    Ell_rot = np.zeros((2,Ell.shape[1]))\n",
    "    for i in range(Ell.shape[1]):\n",
    "        Ell_rot[:,i] = np.dot(R_rot,Ell[:,i])\n",
    "\n",
    "    # foci positions\n",
    "    # c^2 = a^2 - b^2    \n",
    "    plt.xlabel('Azz')\n",
    "    plt.ylabel('Azx')\n",
    "\n",
    "    #plt.plot(c+u, np.array([0,0])+v,'ko')\n",
    "    plt.plot( u+Ell[0,:] , v+Ell[1,:])     #initial ellipse\n",
    "    #plt.plot( u+Ell_rot[0,:] , v+Ell_rot[1,:],'darkorange' )    #rotated ellipse\n",
    "    plt.grid(color='lightgray',linestyle='-.')\n",
    "    #plt.show()\n",
    "    \n",
    "for cova in [0.1,0.5]:\n",
    "    \n",
    "    b = cova\n",
    "    a = cova\n",
    "    \n",
    "    \n",
    "    #c = np.array([-1,1])*np.sqrt(np.abs(a**2-b**2))\n",
    "    u = 1\n",
    "    v = 0\n",
    "\n",
    "    t = np.linspace(0, 2*pi, 100)\n",
    "    Ell = np.array([a*np.cos(t) , b*np.sin(t)])  \n",
    "         #u,v removed to keep the same center location\n",
    "    R_rot = np.array([[cos(t_rot) , -sin(t_rot)],[sin(t_rot) , cos(t_rot)]])  \n",
    "         #2-D rotation matrix\n",
    "\n",
    "    Ell_rot = np.zeros((2,Ell.shape[1]))\n",
    "    for i in range(Ell.shape[1]):\n",
    "        Ell_rot[:,i] = np.dot(R_rot,Ell[:,i])\n",
    "\n",
    "    # foci positions\n",
    "    # c^2 = a^2 - b^2    \n",
    "    plt.xlabel('Azz')\n",
    "    plt.ylabel('Azx')\n",
    "\n",
    "    #plt.plot(c+u, np.array([0,0])+v,'ko')\n",
    "    plt.plot( u+Ell[0,:] , v+Ell[1,:])     #initial ellipse\n",
    "    #plt.plot( u+Ell_rot[0,:] , v+Ell_rot[1,:],'darkorange' )    #rotated ellipse\n",
    "    plt.grid(color='lightgray',linestyle='-.')\n",
    "plt.ylim(-1,1)"
   ]
  },
  {
   "cell_type": "code",
   "execution_count": 60,
   "id": "7870c092",
   "metadata": {
    "ExecuteTime": {
     "end_time": "2024-01-31T15:48:51.456319Z",
     "start_time": "2024-01-31T15:48:51.437201Z"
    }
   },
   "outputs": [],
   "source": [
    "def plot_ellipse(r1,r2,cov):\n",
    "    \"\"\"\n",
    "    coordinate of first foci\n",
    "    coordinate of second foci\n",
    "    cov small axis size of ellipse\n",
    "    \"\"\"\n",
    "    b = cov\n",
    "    d = np.sum((r1-r2)**2)**0.5 #distance between the foci\n",
    "    \n",
    "    a = np.sqrt((0.5*d)**2 + b**2)\n",
    "    t = np.linspace(0, 2*pi, 20)\n",
    "    Ell = np.array([a*np.cos(t) , b*np.sin(t)])  \n",
    "    t_rot = np.arctan((r1-r2)[0]/(r1-r2)[1])\n",
    "         #u,v removed to keep the same center location\n",
    "    R_rot = np.array([[cos(t_rot) , -sin(t_rot)],[sin(t_rot) , cos(t_rot)]])  \n",
    "         #2-D rotation matrix\n",
    "\n",
    "    Ell_rot = np.zeros((2,Ell.shape[1]))\n",
    "    for i in range(Ell.shape[1]):\n",
    "        Ell_rot[:,i] = np.dot(R_rot,Ell[:,i])\n",
    "\n",
    "        \n",
    "    x0 = ((r1+r2)*0.5)[0]\n",
    "    y0 = ((r1+r2)*0.5)[1]\n",
    "    # foci positions\n",
    "    # c^2 = a^2 - b^2    \n",
    "    plt.xlabel('Azz')\n",
    "    plt.ylabel('Azx')\n",
    "\n",
    "    plt.plot(r1[0],r1[1],'ko')\n",
    "    plt.plot(r2[0],r2[1],'ko')\n",
    "    \n",
    "    plt.plot(x0+Ell_rot[0,:] ,y0+Ell_rot[1,:],'darkorange' )    #rotated ellipse\n",
    "    plt.grid(color='lightgray',linestyle='-.')\n",
    "    #plt.show()\n",
    "\n",
    "    \n",
    "    "
   ]
  },
  {
   "cell_type": "code",
   "execution_count": 67,
   "id": "1f41c95f",
   "metadata": {
    "ExecuteTime": {
     "end_time": "2024-01-31T15:50:44.525572Z",
     "start_time": "2024-01-31T15:50:44.329474Z"
    }
   },
   "outputs": [
    {
     "data": {
      "image/png": "[encoded data removed]",
      "text/plain": [
       "<Figure size 432x288 with 1 Axes>"
      ]
     },
     "metadata": {
      "needs_background": "light"
     },
     "output_type": "display_data"
    }
   ],
   "source": [
    "fig,ax = plt.subplots()\n",
    "plot_ellipse(np.array([0,0]), np.array([1,1]), 0.1)\n",
    "plot_ellipse(np.array([0,0]), np.array([1,1]), 0.5)\n",
    "plot_ellipse(np.array([0,0]), np.array([1,1]), 2)\n",
    "ax.set_aspect('equal')"
   ]
  },
  {
   "cell_type": "code",
   "execution_count": 27,
   "id": "1f6013d2",
   "metadata": {
    "ExecuteTime": {
     "end_time": "2024-01-31T09:30:14.420783Z",
     "start_time": "2024-01-31T09:30:14.401278Z"
    }
   },
   "outputs": [
    {
     "ename": "SyntaxError",
     "evalue": "invalid syntax (<ipython-input-27-d8536d7aa2a9>, line 2)",
     "output_type": "error",
     "traceback": [
      "\u001b[0;36m  File \u001b[0;32m\"<ipython-input-27-d8536d7aa2a9>\"\u001b[0;36m, line \u001b[0;32m2\u001b[0m\n\u001b[0;31m    covs = 1/N F**-1\u001b[0m\n\u001b[0m               ^\u001b[0m\n\u001b[0;31mSyntaxError\u001b[0m\u001b[0;31m:\u001b[0m invalid syntax\n"
     ]
    }
   ],
   "source": [
    "from qutip import *\n",
    "covs > 1/10000 F**-1 , Fij, F-1 = f(-Fij * Fii/ Fjj), \n",
    "\n",
    "covs. ->plot. \n"
   ]
  },
  {
   "cell_type": "code",
   "execution_count": null,
   "id": "6b0494fd",
   "metadata": {},
   "outputs": [],
   "source": []
  }
 ],
 "metadata": {
  "kernelspec": {
   "display_name": "Python 3",
   "language": "python",
   "name": "python3"
  },
  "language_info": {
   "codemirror_mode": {
    "name": "ipython",
    "version": 3
   },
   "file_extension": ".py",
   "mimetype": "text/x-python",
   "name": "python",
   "nbconvert_exporter": "python",
   "pygments_lexer": "ipython3",
   "version": "3.7.10"
  },
  "toc": {
   "base_numbering": 1,
   "nav_menu": {},
   "number_sections": true,
   "sideBar": true,
   "skip_h1_title": false,
   "title_cell": "Table of Contents",
   "title_sidebar": "Contents",
   "toc_cell": false,
   "toc_position": {},
   "toc_section_display": true,
   "toc_window_display": true
  }
 },
 "nbformat": 4,
 "nbformat_minor": 5
}
