{
 "cells": [
  {
   "cell_type": "code",
   "execution_count": 1,
   "metadata": {
    "ExecuteTime": {
     "end_time": "2024-02-12T22:39:57.886534Z",
     "start_time": "2024-02-12T22:39:57.679350Z"
    }
   },
   "outputs": [],
   "source": [
    "import os\n",
    "import numpy as np\n",
    "import re\n",
    "import shutil"
   ]
  },
  {
   "cell_type": "markdown",
   "metadata": {},
   "source": [
    "## Define home and arxiv directory"
   ]
  },
  {
   "cell_type": "code",
   "execution_count": 5,
   "metadata": {
    "ExecuteTime": {
     "end_time": "2024-02-12T22:40:57.397757Z",
     "start_time": "2024-02-12T22:40:57.380347Z"
    }
   },
   "outputs": [
    {
     "data": {
      "text/plain": [
       "'/Users/vvv/Documents/GitHub/characterization_paper/arxiv'"
      ]
     },
     "execution_count": 5,
     "metadata": {},
     "output_type": "execute_result"
    }
   ],
   "source": [
    "our_path = os.getcwd()\n",
    "arxiv_path = our_path\n",
    "s = '/'\n",
    "splitted_path = our_path.split(s)\n",
    "home_path = s.join(splitted_path[:-1])\n",
    "\n",
    "home_path\n",
    "def home():\n",
    "    os.chdir(home_path)\n",
    "def arxiv():\n",
    "    os.chdir(arxiv_path)\n",
    "arxiv()\n",
    "os.getcwd()"
   ]
  },
  {
   "cell_type": "code",
   "execution_count": 6,
   "metadata": {
    "ExecuteTime": {
     "end_time": "2024-02-12T22:40:59.712390Z",
     "start_time": "2024-02-12T22:40:59.701871Z"
    }
   },
   "outputs": [
    {
     "data": {
      "text/plain": [
       "'/Users/vvv/Documents/GitHub/characterization_paper'"
      ]
     },
     "execution_count": 6,
     "metadata": {},
     "output_type": "execute_result"
    }
   ],
   "source": [
    "home_path"
   ]
  },
  {
   "cell_type": "markdown",
   "metadata": {},
   "source": [
    "## Copy references to the arxiv"
   ]
  },
  {
   "cell_type": "code",
   "execution_count": 7,
   "metadata": {
    "ExecuteTime": {
     "end_time": "2024-02-12T22:41:22.977971Z",
     "start_time": "2024-02-12T22:41:22.943514Z"
    }
   },
   "outputs": [
    {
     "data": {
      "text/plain": [
       "'/Users/vvv/Documents/GitHub/characterization_paper/arxiv/references.bib'"
      ]
     },
     "execution_count": 7,
     "metadata": {},
     "output_type": "execute_result"
    }
   ],
   "source": [
    "home()\n",
    "\n",
    "references_orig = os.path.join(home_path,'references.bib')\n",
    "references_new = os.path.join(arxiv_path,'references.bib')\n",
    "shutil.copyfile(references_orig, references_new )"
   ]
  },
  {
   "cell_type": "markdown",
   "metadata": {},
   "source": [
    "## Read all files and copy them to arxiv folder and replace the path in the .tex file"
   ]
  },
  {
   "cell_type": "code",
   "execution_count": 8,
   "metadata": {
    "ExecuteTime": {
     "end_time": "2024-02-12T22:41:42.710298Z",
     "start_time": "2024-02-12T22:41:42.634897Z"
    }
   },
   "outputs": [
    {
     "name": "stdout",
     "output_type": "stream",
     "text": [
      "pict/drawing0.pdf \n",
      " /Users/vvv/Documents/GitHub/characterization_paper/arxiv/figure_0.pdf \n",
      "\n",
      "pict/dd_compare2.pdf \n",
      " /Users/vvv/Documents/GitHub/characterization_paper/arxiv/figure_1.pdf \n",
      "\n",
      "pict/eseem_compare2.pdf \n",
      " /Users/vvv/Documents/GitHub/characterization_paper/arxiv/figure_2.pdf \n",
      "\n",
      "pict/fig5.png \n",
      " /Users/vvv/Documents/GitHub/characterization_paper/arxiv/figure_3.png \n",
      "\n",
      "pict/cov_compare_vad.pdf \n",
      " /Users/vvv/Documents/GitHub/characterization_paper/arxiv/figure_4.pdf \n",
      "\n",
      "pict/seqs.png \n",
      " /Users/vvv/Documents/GitHub/characterization_paper/arxiv/figure_5.png \n",
      "\n"
     ]
    }
   ],
   "source": [
    "home()\n",
    "os.listdir()\n",
    "figure_list_original = []\n",
    "figure_list_new = []\n",
    "\n",
    "new_lines = []\n",
    "with open(\"article.tex\", encoding=\"utf8\") as f: #\n",
    "    lines = f.readlines()\n",
    "    counter = 0\n",
    "    for line in lines:\n",
    "        if not(\"\\includegraphics\" in line): \n",
    "            new_lines.append(line)\n",
    "            continue\n",
    "        #print(line)\n",
    "        \n",
    "        split_1 = line.split('{')[1]\n",
    "        split_2 = split_1.split('}')[0]\n",
    "        figure_list_original.append(split_2)\n",
    "        \n",
    "        fending = split_2.split('.')[-1]\n",
    "        file_name = 'figure_'+str(counter)+'.'+fending\n",
    "        figure_list_new.append(os.path.join(arxiv_path,file_name) )\n",
    "        shutil.copyfile(split_2, figure_list_new[-1] )\n",
    "        counter += 1\n",
    "        \n",
    "        new_line = line.replace(split_2,file_name)\n",
    "        \n",
    "        new_lines.append(new_line)\n",
    "        \n",
    "        \n",
    "for i,dirr in enumerate(figure_list_original): print(dirr,'\\n',figure_list_new[i],'\\n')\n",
    "\n",
    "arxiv()\n",
    "with open('arxiv_main.tex', 'a', encoding=\"utf8\") as the_file:\n",
    "    for line in new_lines:\n",
    "        the_file.write(line)\n"
   ]
  },
  {
   "cell_type": "code",
   "execution_count": null,
   "metadata": {},
   "outputs": [],
   "source": []
  },
  {
   "cell_type": "code",
   "execution_count": null,
   "metadata": {},
   "outputs": [],
   "source": []
  },
  {
   "cell_type": "code",
   "execution_count": null,
   "metadata": {},
   "outputs": [],
   "source": []
  },
  {
   "cell_type": "code",
   "execution_count": null,
   "metadata": {},
   "outputs": [],
   "source": [
    "    "
   ]
  },
  {
   "cell_type": "code",
   "execution_count": null,
   "metadata": {},
   "outputs": [],
   "source": []
  },
  {
   "cell_type": "code",
   "execution_count": null,
   "metadata": {},
   "outputs": [],
   "source": []
  },
  {
   "cell_type": "code",
   "execution_count": null,
   "metadata": {},
   "outputs": [],
   "source": []
  },
  {
   "cell_type": "code",
   "execution_count": null,
   "metadata": {},
   "outputs": [],
   "source": []
  }
 ],
 "metadata": {
  "kernelspec": {
   "display_name": "Python 3",
   "language": "python",
   "name": "python3"
  },
  "language_info": {
   "codemirror_mode": {
    "name": "ipython",
    "version": 3
   },
   "file_extension": ".py",
   "mimetype": "text/x-python",
   "name": "python",
   "nbconvert_exporter": "python",
   "pygments_lexer": "ipython3",
   "version": "3.7.10"
  },
  "toc": {
   "base_numbering": 1,
   "nav_menu": {},
   "number_sections": true,
   "sideBar": true,
   "skip_h1_title": false,
   "title_cell": "Table of Contents",
   "title_sidebar": "Contents",
   "toc_cell": false,
   "toc_position": {},
   "toc_section_display": true,
   "toc_window_display": true
  }
 },
 "nbformat": 4,
 "nbformat_minor": 4
}
