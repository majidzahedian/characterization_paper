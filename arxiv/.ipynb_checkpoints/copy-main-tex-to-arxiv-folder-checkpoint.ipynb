{
 "cells": [
  {
   "cell_type": "code",
   "execution_count": 1,
   "metadata": {},
   "outputs": [],
   "source": [
    "import os\n",
    "import numpy as np\n",
    "import re\n",
    "import shutil"
   ]
  },
  {
   "cell_type": "markdown",
   "metadata": {},
   "source": [
    "## Define home and arxiv directory"
   ]
  },
  {
   "cell_type": "code",
   "execution_count": 2,
   "metadata": {},
   "outputs": [
    {
     "data": {
      "text/plain": [
       "'C:\\\\Majid_files\\\\Fidelity\\\\github\\\\telegraph_bridges\\\\arxiv'"
      ]
     },
     "execution_count": 2,
     "metadata": {},
     "output_type": "execute_result"
    }
   ],
   "source": [
    "our_path = os.getcwd()\n",
    "arxiv_path = our_path\n",
    "s = '\\\\'\n",
    "splitted_path = our_path.split(s)\n",
    "home_path = s.join(splitted_path[:-1])\n",
    "\n",
    "home_path\n",
    "def home():\n",
    "    os.chdir(home_path)\n",
    "def arxiv():\n",
    "    os.chdir(arxiv_path)\n",
    "arxiv()\n",
    "os.getcwd()"
   ]
  },
  {
   "cell_type": "code",
   "execution_count": 4,
   "metadata": {},
   "outputs": [
    {
     "data": {
      "text/plain": [
       "'C:\\\\Majid_files\\\\Fidelity\\\\github\\\\telegraph_bridges'"
      ]
     },
     "execution_count": 4,
     "metadata": {},
     "output_type": "execute_result"
    }
   ],
   "source": [
    "home_path"
   ]
  },
  {
   "cell_type": "markdown",
   "metadata": {},
   "source": [
    "## Copy references to the arxiv"
   ]
  },
  {
   "cell_type": "code",
   "execution_count": 3,
   "metadata": {},
   "outputs": [
    {
     "data": {
      "text/plain": [
       "'C:\\\\Users\\\\yy3\\\\Documents\\\\Uni Stuttgart\\\\Double-heterodyne\\\\arxiv\\\\references.bib'"
      ]
     },
     "execution_count": 3,
     "metadata": {},
     "output_type": "execute_result"
    }
   ],
   "source": [
    "home()\n",
    "\n",
    "references_orig = os.path.join(home_path,'references.bib')\n",
    "references_new = os.path.join(arxiv_path,'references.bib')\n",
    "shutil.copyfile(references_orig, references_new )"
   ]
  },
  {
   "cell_type": "markdown",
   "metadata": {},
   "source": [
    "## Read all files and copy them to arxiv folder and replace the path in the .tex file"
   ]
  },
  {
   "cell_type": "code",
   "execution_count": 4,
   "metadata": {},
   "outputs": [
    {
     "name": "stdout",
     "output_type": "stream",
     "text": [
      "figures-december/figure-1/figure-1-assembly-4.pdf \n",
      " C:\\Users\\yy3\\Documents\\Uni Stuttgart\\Double-heterodyne\\arxiv\\figure_0.pdf \n",
      "\n",
      "figures-december/figure-2-new/fig2-3.pdf \n",
      " C:\\Users\\yy3\\Documents\\Uni Stuttgart\\Double-heterodyne\\arxiv\\figure_1.pdf \n",
      "\n",
      "figures-december/figure-2/assembly-5.pdf \n",
      " C:\\Users\\yy3\\Documents\\Uni Stuttgart\\Double-heterodyne\\arxiv\\figure_2.pdf \n",
      "\n",
      "figures-december/figure-3/figure-3assemnbly-6.pdf \n",
      " C:\\Users\\yy3\\Documents\\Uni Stuttgart\\Double-heterodyne\\arxiv\\figure_3.pdf \n",
      "\n",
      "figures-december/experimental_setup/setup-3T-jm.pdf \n",
      " C:\\Users\\yy3\\Documents\\Uni Stuttgart\\Double-heterodyne\\arxiv\\figure_4.pdf \n",
      "\n",
      "figures-december/ext_data_ddq/sequence.pdf \n",
      " C:\\Users\\yy3\\Documents\\Uni Stuttgart\\Double-heterodyne\\arxiv\\figure_5.pdf \n",
      "\n",
      "figures-december/ext_data_ddq/dataset-figure.pdf \n",
      " C:\\Users\\yy3\\Documents\\Uni Stuttgart\\Double-heterodyne\\arxiv\\figure_6.pdf \n",
      "\n",
      "figures-december/ext_data_linewidth/decay-plots.pdf \n",
      " C:\\Users\\yy3\\Documents\\Uni Stuttgart\\Double-heterodyne\\arxiv\\figure_7.pdf \n",
      "\n",
      "figures-december/ext_data_linewidth-2/figure-ext-linewidth.pdf \n",
      " C:\\Users\\yy3\\Documents\\Uni Stuttgart\\Double-heterodyne\\arxiv\\figure_8.pdf \n",
      "\n",
      "sensitivity_estimations/cramer-rao-lower-bound/var_f_over_time.png \n",
      " C:\\Users\\yy3\\Documents\\Uni Stuttgart\\Double-heterodyne\\arxiv\\figure_9.png \n",
      "\n",
      "simulations/distance_sensitivity/1H_distance.png \n",
      " C:\\Users\\yy3\\Documents\\Uni Stuttgart\\Double-heterodyne\\arxiv\\figure_10.png \n",
      "\n",
      "simulations/distance_sensitivity/13C_distance.png \n",
      " C:\\Users\\yy3\\Documents\\Uni Stuttgart\\Double-heterodyne\\arxiv\\figure_11.png \n",
      "\n"
     ]
    }
   ],
   "source": [
    "home()\n",
    "os.listdir()\n",
    "figure_list_original = []\n",
    "figure_list_new = []\n",
    "\n",
    "new_lines = []\n",
    "with open(\"main.tex\") as f:\n",
    "    lines = f.readlines()\n",
    "    counter = 0\n",
    "    for line in lines:\n",
    "        if not(\"\\includegraphics\" in line): \n",
    "            new_lines.append(line)\n",
    "            continue\n",
    "        #print(line)\n",
    "        \n",
    "        split_1 = line.split('{')[1]\n",
    "        split_2 = split_1.split('}')[0]\n",
    "        figure_list_original.append(split_2)\n",
    "        \n",
    "        fending = split_2.split('.')[-1]\n",
    "        file_name = 'figure_'+str(counter)+'.'+fending\n",
    "        figure_list_new.append(os.path.join(arxiv_path,file_name) )\n",
    "        shutil.copyfile(split_2, figure_list_new[-1] )\n",
    "        counter += 1\n",
    "        \n",
    "        new_line = line.replace(split_2,file_name)\n",
    "        \n",
    "        new_lines.append(new_line)\n",
    "        \n",
    "        \n",
    "for i,dirr in enumerate(figure_list_original): print(dirr,'\\n',figure_list_new[i],'\\n')\n",
    "\n",
    "arxiv()\n",
    "with open('arxiv_main.tex', 'a') as the_file:\n",
    "    for line in new_lines:\n",
    "        the_file.write(line)\n"
   ]
  },
  {
   "cell_type": "code",
   "execution_count": null,
   "metadata": {},
   "outputs": [],
   "source": []
  },
  {
   "cell_type": "code",
   "execution_count": null,
   "metadata": {},
   "outputs": [],
   "source": []
  },
  {
   "cell_type": "code",
   "execution_count": null,
   "metadata": {},
   "outputs": [],
   "source": []
  },
  {
   "cell_type": "code",
   "execution_count": null,
   "metadata": {},
   "outputs": [],
   "source": [
    "    "
   ]
  },
  {
   "cell_type": "code",
   "execution_count": null,
   "metadata": {},
   "outputs": [],
   "source": []
  },
  {
   "cell_type": "code",
   "execution_count": null,
   "metadata": {},
   "outputs": [],
   "source": []
  },
  {
   "cell_type": "code",
   "execution_count": null,
   "metadata": {},
   "outputs": [],
   "source": []
  },
  {
   "cell_type": "code",
   "execution_count": null,
   "metadata": {},
   "outputs": [],
   "source": []
  }
 ],
 "metadata": {
  "kernelspec": {
   "display_name": "py3",
   "language": "python",
   "name": "py3"
  },
  "language_info": {
   "codemirror_mode": {
    "name": "ipython",
    "version": 3
   },
   "file_extension": ".py",
   "mimetype": "text/x-python",
   "name": "python",
   "nbconvert_exporter": "python",
   "pygments_lexer": "ipython3",
   "version": "3.9.13"
  }
 },
 "nbformat": 4,
 "nbformat_minor": 4
}
