{
 "cells": [
  {
   "cell_type": "code",
   "execution_count": 8,
   "metadata": {},
   "outputs": [],
   "source": [
    "import os\n",
    "import numpy as np\n",
    "import re\n",
    "import shutil"
   ]
  },
  {
   "cell_type": "markdown",
   "metadata": {},
   "source": [
    "## Define home and arxiv directory"
   ]
  },
  {
   "cell_type": "code",
   "execution_count": 9,
   "metadata": {},
   "outputs": [
    {
     "data": {
      "text/plain": [
       "'C:\\\\Majid_files\\\\Fidelity\\\\github\\\\telegraph_bridges\\\\arxiv'"
      ]
     },
     "execution_count": 9,
     "metadata": {},
     "output_type": "execute_result"
    }
   ],
   "source": [
    "our_path = os.getcwd()\n",
    "arxiv_path = our_path\n",
    "s = '\\\\'\n",
    "splitted_path = our_path.split(s)\n",
    "home_path = s.join(splitted_path[:-1])\n",
    "\n",
    "home_path\n",
    "def home():\n",
    "    os.chdir(home_path)\n",
    "def arxiv():\n",
    "    os.chdir(arxiv_path)\n",
    "arxiv()\n",
    "os.getcwd()"
   ]
  },
  {
   "cell_type": "code",
   "execution_count": 10,
   "metadata": {},
   "outputs": [
    {
     "data": {
      "text/plain": [
       "'C:\\\\Majid_files\\\\Fidelity\\\\github\\\\telegraph_bridges'"
      ]
     },
     "execution_count": 10,
     "metadata": {},
     "output_type": "execute_result"
    }
   ],
   "source": [
    "home_path"
   ]
  },
  {
   "cell_type": "markdown",
   "metadata": {},
   "source": [
    "## Copy references to the arxiv"
   ]
  },
  {
   "cell_type": "code",
   "execution_count": 11,
   "metadata": {},
   "outputs": [
    {
     "data": {
      "text/plain": [
       "'C:\\\\Majid_files\\\\Fidelity\\\\github\\\\telegraph_bridges\\\\arxiv\\\\references.bib'"
      ]
     },
     "execution_count": 11,
     "metadata": {},
     "output_type": "execute_result"
    }
   ],
   "source": [
    "home()\n",
    "\n",
    "references_orig = os.path.join(home_path,'references.bib')\n",
    "references_new = os.path.join(arxiv_path,'references.bib')\n",
    "shutil.copyfile(references_orig, references_new )"
   ]
  },
  {
   "cell_type": "markdown",
   "metadata": {},
   "source": [
    "## Read all files and copy them to arxiv folder and replace the path in the .tex file"
   ]
  },
  {
   "cell_type": "code",
   "execution_count": 18,
   "metadata": {},
   "outputs": [
    {
     "name": "stdout",
     "output_type": "stream",
     "text": [
      "pict/fig1.pdf \n",
      " C:\\Majid_files\\Fidelity\\github\\telegraph_bridges\\arxiv\\figure_0.pdf \n",
      "\n",
      "Notes/Comparison_MC.pdf \n",
      " C:\\Majid_files\\Fidelity\\github\\telegraph_bridges\\arxiv\\figure_1.pdf \n",
      "\n",
      "Notes/Fidelity_simple.pdf \n",
      " C:\\Majid_files\\Fidelity\\github\\telegraph_bridges\\arxiv\\figure_2.pdf \n",
      "\n",
      "Notes/Exclusion_fidelity.pdf \n",
      " C:\\Majid_files\\Fidelity\\github\\telegraph_bridges\\arxiv\\figure_3.pdf \n",
      "\n",
      "majid/electron_spin/20220912-h18m34s45_optical_SSR_histograms/electron_ssr_parameters2.pdf \n",
      " C:\\Majid_files\\Fidelity\\github\\telegraph_bridges\\arxiv\\figure_4.pdf \n",
      "\n",
      "majid/electron_spin/distribution_time_v.pdf \n",
      " C:\\Majid_files\\Fidelity\\github\\telegraph_bridges\\arxiv\\figure_5.pdf \n",
      "\n",
      "majid/electron_spin/electron_spin_readout.pdf \n",
      " C:\\Majid_files\\Fidelity\\github\\telegraph_bridges\\arxiv\\figure_6.pdf \n",
      "\n",
      "majid/electron_spin/electron_spin_preparation.pdf \n",
      " C:\\Majid_files\\Fidelity\\github\\telegraph_bridges\\arxiv\\figure_7.pdf \n",
      "\n",
      "data_/charge_summary.pdf \n",
      " C:\\Majid_files\\Fidelity\\github\\telegraph_bridges\\arxiv\\figure_8.pdf \n",
      "\n",
      "majid/charge_state/charge_green2.pdf \n",
      " C:\\Majid_files\\Fidelity\\github\\telegraph_bridges\\arxiv\\figure_9.pdf \n",
      "\n",
      "majid/nuclear_spin/1data_time2_v.pdf \n",
      " C:\\Majid_files\\Fidelity\\github\\telegraph_bridges\\arxiv\\figure_10.pdf \n",
      "\n"
     ]
    }
   ],
   "source": [
    "home()\n",
    "os.listdir()\n",
    "figure_list_original = []\n",
    "figure_list_new = []\n",
    "\n",
    "new_lines = []\n",
    "with open(\"article.tex\", encoding=\"utf8\") as f: #\n",
    "    lines = f.readlines()\n",
    "    counter = 0\n",
    "    for line in lines:\n",
    "        if not(\"\\includegraphics\" in line): \n",
    "            new_lines.append(line)\n",
    "            continue\n",
    "        #print(line)\n",
    "        \n",
    "        split_1 = line.split('{')[1]\n",
    "        split_2 = split_1.split('}')[0]\n",
    "        figure_list_original.append(split_2)\n",
    "        \n",
    "        fending = split_2.split('.')[-1]\n",
    "        file_name = 'figure_'+str(counter)+'.'+fending\n",
    "        figure_list_new.append(os.path.join(arxiv_path,file_name) )\n",
    "        shutil.copyfile(split_2, figure_list_new[-1] )\n",
    "        counter += 1\n",
    "        \n",
    "        new_line = line.replace(split_2,file_name)\n",
    "        \n",
    "        new_lines.append(new_line)\n",
    "        \n",
    "        \n",
    "for i,dirr in enumerate(figure_list_original): print(dirr,'\\n',figure_list_new[i],'\\n')\n",
    "\n",
    "arxiv()\n",
    "with open('arxiv_main.tex', 'a', encoding=\"utf8\") as the_file:\n",
    "    for line in new_lines:\n",
    "        the_file.write(line)\n"
   ]
  },
  {
   "cell_type": "code",
   "execution_count": null,
   "metadata": {},
   "outputs": [],
   "source": []
  },
  {
   "cell_type": "code",
   "execution_count": null,
   "metadata": {},
   "outputs": [],
   "source": []
  },
  {
   "cell_type": "code",
   "execution_count": null,
   "metadata": {},
   "outputs": [],
   "source": []
  },
  {
   "cell_type": "code",
   "execution_count": null,
   "metadata": {},
   "outputs": [],
   "source": [
    "    "
   ]
  },
  {
   "cell_type": "code",
   "execution_count": null,
   "metadata": {},
   "outputs": [],
   "source": []
  },
  {
   "cell_type": "code",
   "execution_count": null,
   "metadata": {},
   "outputs": [],
   "source": []
  },
  {
   "cell_type": "code",
   "execution_count": null,
   "metadata": {},
   "outputs": [],
   "source": []
  },
  {
   "cell_type": "code",
   "execution_count": null,
   "metadata": {},
   "outputs": [],
   "source": []
  }
 ],
 "metadata": {
  "kernelspec": {
   "display_name": "py3",
   "language": "python",
   "name": "py3"
  },
  "language_info": {
   "codemirror_mode": {
    "name": "ipython",
    "version": 3
   },
   "file_extension": ".py",
   "mimetype": "text/x-python",
   "name": "python",
   "nbconvert_exporter": "python",
   "pygments_lexer": "ipython3",
   "version": "3.9.13"
  }
 },
 "nbformat": 4,
 "nbformat_minor": 4
}
